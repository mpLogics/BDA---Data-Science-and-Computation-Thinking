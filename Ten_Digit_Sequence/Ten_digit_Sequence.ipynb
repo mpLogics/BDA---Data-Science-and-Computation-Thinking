{
 "cells": [
  {
   "cell_type": "code",
   "execution_count": 54,
   "metadata": {},
   "outputs": [],
   "source": [
    "import numpy as np\n",
    "import math\n",
    "import matplotlib.pyplot as plt"
   ]
  },
  {
   "cell_type": "code",
   "execution_count": 55,
   "metadata": {},
   "outputs": [],
   "source": [
    "TotalNumber = 100\n",
    "Digits = 10\n",
    "Sequence = np.zeros((TotalNumber,Digits))\n",
    "for j in range(TotalNumber):\n",
    "    for i in range(Digits):\n",
    "        Sequence[j][i] = np.random.randint(0,10) #Discrete Uniform Distribution"
   ]
  },
  {
   "cell_type": "code",
   "execution_count": 56,
   "metadata": {},
   "outputs": [],
   "source": [
    "#print(Sequence)\n",
    "NewSequence = np.zeros(TotalNumber)\n",
    "for i in range(TotalNumber):\n",
    "    NewSequence[i] = Sequence[i][np.random.randint(0,10)]"
   ]
  },
  {
   "cell_type": "code",
   "execution_count": 57,
   "metadata": {},
   "outputs": [
    {
     "name": "stdout",
     "output_type": "stream",
     "text": [
      "Ei:  20\n",
      "Oi:  [17. 21. 25. 20. 17.]\n"
     ]
    }
   ],
   "source": [
    "#print(NewSequence)\n",
    "#There are different techniques through which we can validate whether the given sequence is a random sequence or not.\n",
    "#We will be employing Chi-Square Test to check whether for the same\n",
    "#Hypothesis:\n",
    "#H0: Sequence is normally distributed\n",
    "\n",
    "N = TotalNumber\n",
    "n = 5   #Intervals -> [0,1], [2,3], [4,5], [6,7],[8,9]\n",
    "O_i = np.zeros(n)\n",
    "for i in range (TotalNumber):\n",
    "    \n",
    "    if NewSequence[i]==0 or NewSequence[i]==1:\n",
    "        O_i[0] = O_i[0] + 1\n",
    "    \n",
    "    elif NewSequence[i]==2 or NewSequence[i]==3:\n",
    "        O_i[1] = O_i[1] + 1\n",
    "    \n",
    "    elif NewSequence[i]==4 or NewSequence[i]==5:\n",
    "        O_i[2] = O_i[2] + 1\n",
    "    \n",
    "    elif NewSequence[i]==6 or NewSequence[i]==7:\n",
    "        O_i[3] = O_i[3] + 1\n",
    "    \n",
    "    else:\n",
    "        O_i[4] = O_i[4] + 1\n",
    "\n",
    "E_i = (int)(N/n)\n",
    "num = np.zeros(n)\n",
    "print(\"Ei: \",E_i)\n",
    "print(\"Oi: \",O_i)"
   ]
  },
  {
   "cell_type": "code",
   "execution_count": 58,
   "metadata": {},
   "outputs": [
    {
     "name": "stdout",
     "output_type": "stream",
     "text": [
      "[0.45 0.05 1.25 0.   0.45]\n",
      "2.2\n"
     ]
    }
   ],
   "source": [
    "for k in range(n):\n",
    "    num[k] = ((O_i[k]-E_i)**2)/E_i\n",
    "print(num)\n",
    "sum = np.sum(num)\n",
    "print(sum)"
   ]
  },
  {
   "cell_type": "code",
   "execution_count": null,
   "metadata": {},
   "outputs": [],
   "source": []
  }
 ],
 "metadata": {
  "kernelspec": {
   "display_name": "Python 3",
   "language": "python",
   "name": "python3"
  },
  "language_info": {
   "codemirror_mode": {
    "name": "ipython",
    "version": 3
   },
   "file_extension": ".py",
   "mimetype": "text/x-python",
   "name": "python",
   "nbconvert_exporter": "python",
   "pygments_lexer": "ipython3",
   "version": "3.8.6"
  }
 },
 "nbformat": 4,
 "nbformat_minor": 4
}
