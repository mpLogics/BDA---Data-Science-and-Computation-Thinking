{
 "cells": [
  {
   "cell_type": "markdown",
   "metadata": {
    "id": "SKtZUMWOnY2v"
   },
   "source": [
    "# Question 3: The Monty Hall Problem\n",
    "To simulate the probabilities of winning and losing, we select a door randomly out of the 3 doors to be the correct one. Next the player chooses the door randomly to select one. Post that the player might switch. The probability of winning has been calculated in 3 different ways.\n",
    "\n",
    "1. The player **might or might not switch**.\n",
    "2. The player will **switch in each case**\n",
    "3. The player will **not switch ever**\n",
    "\n",
    "Trying it out for different number of trials (default: 10 000), I observed that:-\n",
    "\n",
    "1. The **probability** of the player **winning is maximum** when they **switch every time** that is case 2. (Can be considered as the **upper bound** for the probability for winning)\n",
    "\n",
    "2. The **probability** is **least** when the **player doen't switch any time**. (Can be considered as the **lower bound** for the probability of winning)\n",
    "\n",
    "3. For the first case, the **probability** lies **between those obtained** in the two cases (Can be considered as the **average case**)\n",
    "\n",
    "\n"
   ]
  },
  {
   "cell_type": "code",
   "execution_count": 2,
   "metadata": {
    "id": "D1Czz-KvcBTM"
   },
   "outputs": [],
   "source": [
    "import matplotlib.pyplot as plt\n",
    "#from mpl_toolkits.mplot3d import Axes3D\n",
    "#from matplotlib.patches import FancyArrowPatch\n",
    "#from mpl_toolkits.mplot3d import proj3d\n",
    "import numpy as np\n",
    "import math"
   ]
  },
  {
   "cell_type": "code",
   "execution_count": 3,
   "metadata": {
    "id": "5Ut9w2Xwp44t"
   },
   "outputs": [],
   "source": [
    "import time\n",
    "def randomSwitchGenerator(num):\n",
    "    return ((int)(((time.time())-(int)(time.time()))*(10**9)))%num"
   ]
  },
  {
   "cell_type": "code",
   "execution_count": 4,
   "metadata": {
    "id": "OPIzkuJ4cJQC"
   },
   "outputs": [],
   "source": [
    "def randomChoiceGenerator(numberofIterations):\n",
    "  #x_value = 743.0    # Our seed, or X_0 = 123456789\n",
    "    a = 111427               # Our \"a\" base value\n",
    "    c = 323                # Our \"c\" base value\n",
    "    m = 4\n",
    "    count = 0\n",
    "    x_value = 0\n",
    "    #numberofIterations = 20\n",
    "    X = np.empty(numberofIterations+2)\n",
    "    X[0] = 743\n",
    "    X[1] = 111427\n",
    "    counter = 2\n",
    "    while counter < numberofIterations+2:\n",
    "        x_value = (X[counter-1] + X[counter-2] + c) % m\n",
    "    while(x_value==0):\n",
    "        x_value = randomSwitchGenerator(4)\n",
    "    X[counter] = (int)(x_value)\n",
    "    c += 1\n",
    "    counter = counter + 1\n",
    "\n",
    "    return X[2:]\n"
   ]
  },
  {
   "cell_type": "markdown",
   "metadata": {
    "id": "4bGewpmp0ImQ"
   },
   "source": [
    "This function sets up the simulation for the Monty Hall Problem. For each trial, a winner door is selected, a player choice is selected and a switch is selected. Taking into account the value of these three, the function returns whether the trial resulted in a win or loss. "
   ]
  },
  {
   "cell_type": "code",
   "execution_count": 5,
   "metadata": {
    "id": "ZVeqzecgnD1g"
   },
   "outputs": [],
   "source": [
    "def MontyHall(wish,cDoor,pChoice):\n",
    "    #correctDoor = random.randint(1,3)\n",
    "    correctDoor = cDoor\n",
    "    #playerChoice = random.randint(1,3)\n",
    "    playerChoice = pChoice\n",
    "    select = np.zeros(3)\n",
    "  \n",
    "    a = randomSwitchGenerator(2)\n",
    "    if a < 0.5:\n",
    "        select[0] = 0\n",
    "    else :\n",
    "        select[0] = 1\n",
    "      \n",
    "    select[1] = 1\n",
    "    select[2] = 0\n",
    "    switchChoice = select[wish]\n",
    "\n",
    "    if switchChoice == 0 and playerChoice == correctDoor :\n",
    "        win = 1\n",
    "    elif switchChoice == 1 and playerChoice != correctDoor:\n",
    "        win = 1\n",
    "    else:\n",
    "        win = 0\n",
    "    return win\n"
   ]
  },
  {
   "cell_type": "markdown",
   "metadata": {
    "id": "Zthntbty0u0v"
   },
   "source": [
    "The simulation is run in this section. The probabilities for the three cases mentioned in the beginning is calculated for all the trials."
   ]
  },
  {
   "cell_type": "code",
   "execution_count": null,
   "metadata": {
    "colab": {
     "base_uri": "https://localhost:8080/",
     "height": 187
    },
    "id": "5bhS6pZHohzA",
    "outputId": "3cf8764e-9079-4895-94a8-e23f069f5680"
   },
   "outputs": [],
   "source": [
    "total = 1000     #Number of trials\n",
    "win1 = np.zeros(total)\n",
    "win2 = np.zeros(total)\n",
    "win3 = np.zeros(total)\n",
    "cDoor = np.zeros(total)\n",
    "pChoice = np.zeros(total)\n",
    "\n",
    "#Player switches randomly\n",
    "for z in range(total):\n",
    "    cDoor = randomChoiceGenerator(total)\n",
    "    pChoice = cDoor\n",
    "    win1[z] = MontyHall(0,cDoor[z],pChoice[total-z-1])\n",
    "\n",
    "\n",
    "#Player always switches\n",
    "for z in range(total):\n",
    "    win2[z] = MontyHall(1,cDoor[z],pChoice[total-z-1])\n",
    "  \n",
    "\n",
    "    #Player never switches\n",
    "for z in range(total):\n",
    "    win3[z] = MontyHall(2,cDoor[z],pChoice[total-z-1])\n",
    "\n",
    "probWin1 = np.sum(win1)/total\n",
    "probLose1 = 1 - probWin1\n",
    "\n",
    "probWin2 = np.sum(win2)/total\n",
    "probLose2 = 1 - probWin2\n",
    "\n",
    "probWin3 = np.sum(win3)/total\n",
    "probLose3 = 1 - probWin3\n",
    "\n",
    "print(\"Probability of winning (random switching) = \",probWin1)\n",
    "print(\"Probanbility of losing (random switching) = \",probLose1)\n",
    "\n",
    "print(\"\\n\")\n",
    "\n",
    "print(\"Probability of winning (switching everytime) = \",probWin2)\n",
    "print(\"Probanbility of losing (switching everytime)= \",probLose2)\n",
    "\n",
    "print(\"\\n\")\n",
    "\n",
    "print(\"Probability of winning (no switching) = \",probWin3)\n",
    "print(\"Probanbility of losing (no switching) = \",probLose3)\n"
   ]
  },
  {
   "cell_type": "code",
   "execution_count": null,
   "metadata": {},
   "outputs": [],
   "source": []
  }
 ],
 "metadata": {
  "colab": {
   "collapsed_sections": [],
   "name": "The Monty Hall Problem.ipynb",
   "provenance": []
  },
  "kernelspec": {
   "display_name": "Python 3 (ipykernel)",
   "language": "python",
   "name": "python3"
  },
  "language_info": {
   "codemirror_mode": {
    "name": "ipython",
    "version": 3
   },
   "file_extension": ".py",
   "mimetype": "text/x-python",
   "name": "python",
   "nbconvert_exporter": "python",
   "pygments_lexer": "ipython3",
   "version": "3.9.6"
  }
 },
 "nbformat": 4,
 "nbformat_minor": 1
}
