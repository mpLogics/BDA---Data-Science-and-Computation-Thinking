{
 "cells": [
  {
   "cell_type": "markdown",
   "metadata": {
    "id": "uxFHThRi80lU"
   },
   "source": [
    "# Question 4: Sample and Population parameters\n",
    "\n",
    "We have been given a dataset with 10,000 tuples of data. To evaluate the sample mean, variance and population mean and variance, I have used pandas to extract data from the CSV into a dataframe and have then converted it into a numpy array.\n",
    "\n",
    "In the consequent sections, I will describe the flow of the code and what each section is doing"
   ]
  },
  {
   "cell_type": "code",
   "execution_count": 5,
   "metadata": {
    "id": "LFXwJI7Q_GeQ"
   },
   "outputs": [],
   "source": [
    "import matplotlib.pyplot as plt\n",
    "#from mpl_toolkits.mplot3d import Axes3D\n",
    "#from matplotlib.patches import FancyArrowPatch\n",
    "#from mpl_toolkits.mplot3d import proj3d\n",
    "import numpy as np\n",
    "import math"
   ]
  },
  {
   "cell_type": "markdown",
   "metadata": {
    "id": "J1J6fex32xog"
   },
   "source": [
    "To run the code, we need to run the next cell. The cell will then prompt you to choose a file. In that, choose the yearly_sales.csv file."
   ]
  },
  {
   "cell_type": "code",
   "execution_count": 2,
   "metadata": {
    "colab": {
     "base_uri": "https://localhost:8080/",
     "height": 73,
     "resources": {
      "http://localhost:8080/nbextensions/google.colab/files.js": {
       "data": "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",
       "headers": [
        [
         "content-type",
         "application/javascript"
        ]
       ],
       "ok": true,
       "status": 200,
       "status_text": ""
      }
     }
    },
    "id": "xExV2YHh8xtB",
    "outputId": "36d763b5-0d94-4de0-ac2b-36eeeb07e762"
   },
   "outputs": [
    {
     "data": {
      "text/html": [
       "\n",
       "     <input type=\"file\" id=\"files-5a02966d-a1a5-463a-a3b5-df42a7b6db09\" name=\"files[]\" multiple disabled\n",
       "        style=\"border:none\" />\n",
       "     <output id=\"result-5a02966d-a1a5-463a-a3b5-df42a7b6db09\">\n",
       "      Upload widget is only available when the cell has been executed in the\n",
       "      current browser session. Please rerun this cell to enable.\n",
       "      </output>\n",
       "      <script src=\"/nbextensions/google.colab/files.js\"></script> "
      ],
      "text/plain": [
       "<IPython.core.display.HTML object>"
      ]
     },
     "metadata": {
      "tags": []
     },
     "output_type": "display_data"
    },
    {
     "name": "stdout",
     "output_type": "stream",
     "text": [
      "Saving yearly_sales.csv to yearly_sales.csv\n"
     ]
    }
   ],
   "source": [
    "from google.colab import files\n",
    "uploaded = files.upload()"
   ]
  },
  {
   "cell_type": "markdown",
   "metadata": {
    "id": "7VM43nQ63BlM"
   },
   "source": [
    "This function generates the indices from 1 - 10,000 pseudo randomly so as to facilitate random sampling. This function along with the next cell is responsible for enabling us to do sampling without replacement, that is no data point will come up more than once in a sample set"
   ]
  },
  {
   "cell_type": "code",
   "execution_count": 3,
   "metadata": {
    "id": "DLVLiBvI9DOR"
   },
   "outputs": [],
   "source": [
    "def generateRandomIndices():\n",
    "  required = 10000\n",
    "  X = np.zeros(required)\n",
    "  start = 27621\n",
    "  A = 247\n",
    "  b = 2\n",
    "  m = 10001\n",
    "  z = 0\n",
    "  while z < required:\n",
    "    X[z] = (int)((A*start + b)  % m )#+ 1\n",
    "    start = X[z]\n",
    "    b = b + 30\n",
    "    z = z + 1\n",
    "  return X"
   ]
  },
  {
   "cell_type": "markdown",
   "metadata": {
    "id": "n8Ffox_m3c-T"
   },
   "source": [
    "The perm and randomperm are lists which help the above generator to shuffle the indices. After the indices have been generated, there are still some non-distinct indices left. To remove that and bring about more randomness, the following cell uses the generated random indices to form a permutation of the elements such that all 10000 indices have 1 slot each in the randomperm"
   ]
  },
  {
   "cell_type": "code",
   "execution_count": 6,
   "metadata": {
    "colab": {
     "base_uri": "https://localhost:8080/",
     "height": 34
    },
    "id": "Ijue6qQP-sNw",
    "outputId": "8d5f3fce-925b-43f9-8745-d4bda062d9d4"
   },
   "outputs": [
    {
     "data": {
      "text/plain": [
       "0"
      ]
     },
     "execution_count": 6,
     "metadata": {
      "tags": []
     },
     "output_type": "execute_result"
    }
   ],
   "source": [
    "perm = []\n",
    "randomperm = []\n",
    "perm = generateRandomIndices()\n",
    "\n",
    "k=1\n",
    "for i in range(10000):\n",
    "  randomperm.append(k)\n",
    "  k=k+1\n",
    "\n",
    "for i in range(10000):\n",
    "  \n",
    "  if perm[i]>=10000 or perm[-i-1]>=10000:\n",
    "    perm[i]-=1\n",
    "  \n",
    "  randomperm[i], randomperm[(int)(perm[-i-1])] = randomperm[int(perm[-i-1])], randomperm[i] \n",
    "\n",
    "\n",
    "for i in range(10000):\n",
    "  randomperm[i] = (int)(randomperm[i])\n",
    "  \n",
    "\"\"\"\n",
    "Checking for duplicate indices if any\n",
    "\"\"\"\n",
    "def test_duplicate(array_nums):\n",
    "   nums_set = set(array_nums)    \n",
    "   return len(array_nums)-len(nums_set)     \n",
    "\n",
    "test_duplicate(randomperm)"
   ]
  },
  {
   "cell_type": "markdown",
   "metadata": {
    "id": "39UG28Y738Y1"
   },
   "source": [
    "Now randomperm has 1-10000 indices arranged in random order. \n",
    "So for random sampling, we can now take different sample sizes sequentially from randomperm."
   ]
  },
  {
   "cell_type": "markdown",
   "metadata": {
    "id": "PaVdhuie4C0a"
   },
   "source": [
    "\n",
    "Since, the indices are in random order and are distinct, this would mean we will have all disjoint sample sets and will\n",
    "be equivalent to random sampling without replacement."
   ]
  },
  {
   "cell_type": "markdown",
   "metadata": {
    "id": "5Yj8MOSL4biS"
   },
   "source": [
    "## Q4(a):\n",
    "After executing this code, we can see clearly that the sample mean and sample variance are inching closer to the population mean and population variance as we increase our sample size. This can be easily understood by noting the fact that as more and more samples are drawn, they will be better representatives of the population characteristics."
   ]
  },
  {
   "cell_type": "code",
   "execution_count": 8,
   "metadata": {
    "colab": {
     "base_uri": "https://localhost:8080/",
     "height": 541
    },
    "id": "Q4sdD9wY_CQu",
    "outputId": "864517e9-eb66-4442-92fb-384d47cb7f7b"
   },
   "outputs": [
    {
     "data": {
      "image/png": "[encoded data removed]",
      "text/plain": [
       "<Figure size 432x288 with 1 Axes>"
      ]
     },
     "metadata": {
      "needs_background": "light",
      "tags": []
     },
     "output_type": "display_data"
    },
    {
     "name": "stdout",
     "output_type": "stream",
     "text": [
      "\n",
      "Sample Mean for the different sample sizes\n",
      "[249.45567629 249.45567629 249.45567629 249.45567629 249.45567629\n",
      " 249.45567629 249.45567629 249.45567629 249.45567629]\n",
      "\n",
      "Sample Variance for the different sample sizes\n",
      "[ 50608.72730488  80618.76484749  91921.65966211  98115.74169211\n",
      " 100147.90209266 101095.5663514  101462.00014068 101636.74331238\n",
      " 101691.09922933]\n",
      "\n",
      "\n",
      "Population Mean:  249.455676294528\n",
      "Population Variance:  101783.22218085403\n"
     ]
    }
   ],
   "source": [
    "\n",
    "import pandas as pd\n",
    "import io\n",
    "df2 = pd.read_csv(io.BytesIO(uploaded['yearly_sales.csv']))\n",
    "df1 = df2\n",
    "np.sum(df2.sales_total)       #sum of entire population \n",
    "n = len(df1.sales_total)      #total elements in the population\n",
    "\n",
    "popMean = np.sum(df2.sales_total)/len(df2.sales_total)\n",
    "popData = df1.to_numpy()      #Converting the dataframe to a numpy array\n",
    "\n",
    "z = 0\n",
    "popVariance = 0\n",
    "while z < len(df2.sales_total):\n",
    "  popVariance = popVariance + ((popData[z][1]-popMean)**2)/len(df2.sales_total)\n",
    "  z = z + 1\n",
    "\n",
    "#Taking different sample sizes\n",
    "\n",
    "sampleSize = [2,5,10,25,50,100,250,500,1000]\n",
    "sampleVariance = np.zeros(len(sampleSize))\n",
    "sampleMean = np.zeros(len(sampleSize))\n",
    "\n",
    "\n",
    "for i in range(len(randomperm)):\n",
    "  randomperm[i] = (int)(randomperm[i]-1)\n",
    "\n",
    "for i in range(len(sampleSize)):\n",
    "  limit = (int)(10000/sampleSize[i])\n",
    "  \n",
    "  sampleMean_Dash = np.zeros(limit)\n",
    "  sampleVariance_Dash = np.zeros(limit)\n",
    "  g = 0\n",
    "  sampleData = np.zeros((limit,sampleSize[i]))    \n",
    "  \n",
    "  for j in range(limit):\n",
    "    k = 0\n",
    "    for k in range(sampleSize[i]):\n",
    "      sampleData[j][k] = popData[randomperm[g]][1]\n",
    "      g = g + 1                       \n",
    "    \n",
    "    sampleMean_Dash[j] = np.sum(sampleData[j])/sampleSize[i]\n",
    "\n",
    "    for k in range(sampleSize[i]):\n",
    "      sampleVariance_Dash[j] += ((sampleData[j][k]-sampleMean_Dash[j])**2)/sampleSize[i]\n",
    "    \n",
    "  \n",
    "  sampleMean[i] = np.sum(sampleMean_Dash)/limit\n",
    "  sampleVariance[i] = np.sum(sampleVariance_Dash)/limit\n",
    "\n",
    "\n",
    "sampleVarianceFinal = np.sum(sampleVariance)/len(sampleSize)\n",
    "\n",
    "absVar = np.zeros(len(sampleSize))\n",
    "absMean = np.zeros(len(sampleSize))\n",
    "\n",
    "for i in range(len(sampleSize)):\n",
    "  absVar[i] = sampleVariance[i]-popVariance\n",
    "  absMean[i] = sampleMean[i]-popMean\n",
    "plt.plot(sampleSize,absVar)\n",
    "plt.plot(sampleSize,absMean)\n",
    "plt.xlabel(\"Sample Size\")\n",
    "plt.ylabel(\"Diff. b/w Mean and Variance\")#print(sampleVariance)\n",
    "plt.title(\"Graph showing convergence of mean\\n and variance with increase in sample sizes\")\n",
    "plt.show()\n",
    "\n",
    "print(\"\\nSample Mean for the different sample sizes\")\n",
    "print(sampleMean)\n",
    "print(\"\\nSample Variance for the different sample sizes\")\n",
    "print(sampleVariance)\n",
    "\n",
    "print(\"\\n\\nPopulation Mean: \",popMean)\n",
    "print(\"Population Variance: \",popVariance)"
   ]
  },
  {
   "cell_type": "markdown",
   "metadata": {
    "id": "w59FxQVt4GkY"
   },
   "source": [
    "## Q4(b):\n",
    "The graph shows the convergence of the expected sample mean and expected sample variance to the population mean and population variance respectively. This sums up our observations for part(a) and validates the theoretical result for part(b)."
   ]
  }
 ],
 "metadata": {
  "colab": {
   "collapsed_sections": [],
   "name": "Q4.ipynb",
   "provenance": []
  },
  "kernelspec": {
   "display_name": "Python 3 (ipykernel)",
   "language": "python",
   "name": "python3"
  },
  "language_info": {
   "codemirror_mode": {
    "name": "ipython",
    "version": 3
   },
   "file_extension": ".py",
   "mimetype": "text/x-python",
   "name": "python",
   "nbconvert_exporter": "python",
   "pygments_lexer": "ipython3",
   "version": "3.9.6"
  }
 },
 "nbformat": 4,
 "nbformat_minor": 1
}
